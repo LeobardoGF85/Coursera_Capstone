{
 "cells": [
  {
   "cell_type": "markdown",
   "metadata": {},
   "source": [
    "## Finding a location in Manhattan to open a Restaurant with Data Science"
   ]
  },
  {
   "cell_type": "markdown",
   "metadata": {},
   "source": [
    "### Leobardo Gómez"
   ]
  },
  {
   "cell_type": "markdown",
   "metadata": {},
   "source": [
    "# Introduction"
   ]
  },
  {
   "cell_type": "markdown",
   "metadata": {},
   "source": [
    "As an entrepeneur in the food business, it is always important to find a good location to open a restaurant. \n",
    "\n",
    "Given that New York City is one of the biggest cities in the world, it is very difficult to find the best place to start a new business. Manhattan is one of the most important boroughs in New York City, because it is very densely populated and for the fact that is the economic, administrative and cultural center of the city. This makes Manhattan and ideal spot for starting a restaurant. \n",
    "\n",
    "Data Science is the use of data to gain insights about a given problem. Described briefly, it is  the process to answer questions about different areas with the use of information.\n"
   ]
  },
  {
   "cell_type": "markdown",
   "metadata": {},
   "source": [
    "# Business Problem"
   ]
  },
  {
   "cell_type": "markdown",
   "metadata": {},
   "source": [
    "Is it possible to find a good location in Manhattan to start a resturant?\n",
    "\n",
    "The goal of this paper is to use Data Science to discover the answer to the previous question. So, the target audience for this project are entrepeneurs with the idea of starting a restaurant in Manhattan. \n"
   ]
  },
  {
   "cell_type": "markdown",
   "metadata": {},
   "source": [
    "# Data"
   ]
  },
  {
   "cell_type": "markdown",
   "metadata": {},
   "source": [
    "To find a good location to start a restaurant is a complex task that requires some analysis. Based on the web article:\n",
    "\n",
    "https://fitsmallbusiness.com/choose-a-restaurant-location/\n",
    "\n",
    "It is possible to identify some important features for choosing the right place:\n",
    "\n",
    "  * Restaurant concept\n",
    "  * Type of ideal customer\n",
    "\n",
    "As the article describes it, the Restaurant concept is based on the combination of cuisine type and restaurant style. These features are going to be essential in the process of clustering the information.\n",
    "\n",
    "For the type of ideal customer, some demographic information is needed. The next URL provides some datasets for demographic information of New York:\n",
    "\n",
    "https://www1.nyc.gov/site/planning/planning-level/nyc-population/census-2010.page\n",
    "\n",
    "In this website, it is possible to download some data like example below:\n"
   ]
  },
  {
   "cell_type": "markdown",
   "metadata": {},
   "source": [
    "<img src = \"Data.png\" width = 400> </a>\n"
   ]
  },
  {
   "cell_type": "markdown",
   "metadata": {},
   "source": [
    "The information by age and total population is segmented by groups of age.\n",
    "\n",
    "Also, it is important to take in account the type of business around the area. Foursquare datasets will be needed to get insight about the nearby venues.\n"
   ]
  }
 ],
 "metadata": {
  "kernelspec": {
   "display_name": "Python",
   "language": "python",
   "name": "conda-env-python-py"
  },
  "language_info": {
   "codemirror_mode": {
    "name": "ipython",
    "version": 3
   },
   "file_extension": ".py",
   "mimetype": "text/x-python",
   "name": "python",
   "nbconvert_exporter": "python",
   "pygments_lexer": "ipython3",
   "version": "3.6.7"
  }
 },
 "nbformat": 4,
 "nbformat_minor": 4
}
